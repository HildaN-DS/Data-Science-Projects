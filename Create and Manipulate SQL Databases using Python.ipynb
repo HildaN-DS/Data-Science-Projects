{
    "cells": [
        {
            "cell_type": "markdown",
            "metadata": {
                "collapsed": true
            },
            "source": "#### Import the ibm_db Python library"
        },
        {
            "cell_type": "code",
            "execution_count": 1,
            "metadata": {},
            "outputs": [],
            "source": "import ibm_db"
        },
        {
            "cell_type": "markdown",
            "metadata": {},
            "source": "#### Identify the database connection credentials"
        },
        {
            "cell_type": "code",
            "execution_count": 2,
            "metadata": {},
            "outputs": [],
            "source": "# The code was removed by Watson Studio for sharing."
        },
        {
            "cell_type": "markdown",
            "metadata": {},
            "source": "#### Create the database connection"
        },
        {
            "cell_type": "code",
            "execution_count": null,
            "metadata": {},
            "outputs": [],
            "source": "dsn = (\n    \"DRIVER={0};\"\n    \"DATABASE={1};\"\n    \"HOSTNAME={2};\"\n    \"PORT={3};\"\n    \"PROTOCOL={4};\"\n    \"UID={5};\"\n    \"PWD={6};\"\n    \"SECURITY={7};\").format(dsn_driver, dsn_database, dsn_hostname, dsn_port, dsn_protocol, dsn_uid, dsn_pwd,dsn_security)\n\ntry:\n    conn = ibm_db.connect(dsn, \"\", \"\")\n    print (\"Connected to database: \", dsn_database, \"as user: \", dsn_uid, \"on host: \", dsn_hostname)\n\nexcept:\n    print (\"Unable to connect: \", ibm_db.conn_errormsg() ) \n"
        },
        {
            "cell_type": "markdown",
            "metadata": {},
            "source": "#### Query data in a table in the database"
        },
        {
            "cell_type": "code",
            "execution_count": 4,
            "metadata": {},
            "outputs": [
                {
                    "data": {
                        "text/plain": "{'EMP_ID': 'E1001    ',\n 0: 'E1001    ',\n 'F_NAME': 'John',\n 1: 'John',\n 'L_NAME': 'Thomas',\n 2: 'Thomas',\n 'SSN': '123456   ',\n 3: '123456   ',\n 'B_DATE': datetime.date(1976, 1, 9),\n 4: datetime.date(1976, 1, 9),\n 'SEX': 'M',\n 5: 'M',\n 'ADDRESS': '5631 Rice, OakPark,IL',\n 6: '5631 Rice, OakPark,IL',\n 'JOB_ID': '100      ',\n 7: '100      ',\n 'SALARY': '100000.00',\n 8: '100000.00',\n 'MANAGER_ID': '30001    ',\n 9: '30001    ',\n 'DEP_ID': '2        ',\n 10: '2        '}"
                    },
                    "execution_count": 4,
                    "metadata": {},
                    "output_type": "execute_result"
                }
            ],
            "source": "#Construct the query that retrieves all rows from the EMPLOYEES table\nselectQuery = \"select * from EMPLOYEES\"\n\n#Execute the statement\nselectStmt = ibm_db.exec_immediate(conn, selectQuery)\n\n#Fetch the Dictionary (for the first row only)\nibm_db.fetch_both(selectStmt)"
        },
        {
            "cell_type": "code",
            "execution_count": 5,
            "metadata": {},
            "outputs": [
                {
                    "name": "stdout",
                    "output_type": "stream",
                    "text": "EMP_ID: E1002      F_NAME: Alice\nEMP_ID: E1003      F_NAME: Steve\nEMP_ID: E1004      F_NAME: Santosh\nEMP_ID: E1005      F_NAME: Ahmed\nEMP_ID: E1006      F_NAME: Nancy\nEMP_ID: E1007      F_NAME: Mary\nEMP_ID: E1008      F_NAME: Bharath\nEMP_ID: E1009      F_NAME: Andrea\nEMP_ID: E1010      F_NAME: Ann\n"
                }
            ],
            "source": "#Fetch the rest of the rows and print the EMP_ID and F_NAME for those rows\nwhile ibm_db.fetch_row(selectStmt) != False:\n   print (\"EMP_ID:\",  ibm_db.result(selectStmt, 0), \" F_NAME:\",  ibm_db.result(selectStmt, \"F_NAME\"))"
        },
        {
            "cell_type": "markdown",
            "metadata": {},
            "source": "####  Retrieve data into Pandas"
        },
        {
            "cell_type": "code",
            "execution_count": 6,
            "metadata": {},
            "outputs": [],
            "source": "import pandas\nimport ibm_db_dbi"
        },
        {
            "cell_type": "code",
            "execution_count": 7,
            "metadata": {},
            "outputs": [],
            "source": "#connection for pandas\npconn = ibm_db_dbi.Connection(conn)"
        },
        {
            "cell_type": "code",
            "execution_count": 10,
            "metadata": {},
            "outputs": [
                {
                    "data": {
                        "text/html": "<div>\n<style scoped>\n    .dataframe tbody tr th:only-of-type {\n        vertical-align: middle;\n    }\n\n    .dataframe tbody tr th {\n        vertical-align: top;\n    }\n\n    .dataframe thead th {\n        text-align: right;\n    }\n</style>\n<table border=\"1\" class=\"dataframe\">\n  <thead>\n    <tr style=\"text-align: right;\">\n      <th></th>\n      <th>EMP_ID</th>\n      <th>F_NAME</th>\n      <th>L_NAME</th>\n      <th>SSN</th>\n      <th>B_DATE</th>\n      <th>SEX</th>\n      <th>ADDRESS</th>\n      <th>JOB_ID</th>\n      <th>SALARY</th>\n      <th>MANAGER_ID</th>\n      <th>DEP_ID</th>\n    </tr>\n  </thead>\n  <tbody>\n    <tr>\n      <th>0</th>\n      <td>E1001</td>\n      <td>John</td>\n      <td>Thomas</td>\n      <td>123456</td>\n      <td>1976-01-09</td>\n      <td>M</td>\n      <td>5631 Rice, OakPark,IL</td>\n      <td>100</td>\n      <td>100000.0</td>\n      <td>30001</td>\n      <td>2</td>\n    </tr>\n    <tr>\n      <th>1</th>\n      <td>E1002</td>\n      <td>Alice</td>\n      <td>James</td>\n      <td>123457</td>\n      <td>1972-07-31</td>\n      <td>F</td>\n      <td>980 Berry ln, Elgin,IL</td>\n      <td>200</td>\n      <td>80000.0</td>\n      <td>30002</td>\n      <td>5</td>\n    </tr>\n    <tr>\n      <th>2</th>\n      <td>E1003</td>\n      <td>Steve</td>\n      <td>Wells</td>\n      <td>123458</td>\n      <td>1980-08-10</td>\n      <td>M</td>\n      <td>291 Springs, Gary,IL</td>\n      <td>300</td>\n      <td>50000.0</td>\n      <td>30002</td>\n      <td>5</td>\n    </tr>\n    <tr>\n      <th>3</th>\n      <td>E1004</td>\n      <td>Santosh</td>\n      <td>Kumar</td>\n      <td>123459</td>\n      <td>1985-07-20</td>\n      <td>M</td>\n      <td>511 Aurora Av, Aurora,IL</td>\n      <td>400</td>\n      <td>60000.0</td>\n      <td>30004</td>\n      <td>5</td>\n    </tr>\n    <tr>\n      <th>4</th>\n      <td>E1005</td>\n      <td>Ahmed</td>\n      <td>Hussain</td>\n      <td>123410</td>\n      <td>1981-01-04</td>\n      <td>M</td>\n      <td>216 Oak Tree, Geneva,IL</td>\n      <td>500</td>\n      <td>70000.0</td>\n      <td>30001</td>\n      <td>2</td>\n    </tr>\n    <tr>\n      <th>5</th>\n      <td>E1006</td>\n      <td>Nancy</td>\n      <td>Allen</td>\n      <td>123411</td>\n      <td>1978-02-06</td>\n      <td>F</td>\n      <td>111 Green Pl, Elgin,IL</td>\n      <td>600</td>\n      <td>90000.0</td>\n      <td>30001</td>\n      <td>2</td>\n    </tr>\n    <tr>\n      <th>6</th>\n      <td>E1007</td>\n      <td>Mary</td>\n      <td>Thomas</td>\n      <td>123412</td>\n      <td>1975-05-05</td>\n      <td>F</td>\n      <td>100 Rose Pl, Gary,IL</td>\n      <td>650</td>\n      <td>65000.0</td>\n      <td>30003</td>\n      <td>7</td>\n    </tr>\n    <tr>\n      <th>7</th>\n      <td>E1008</td>\n      <td>Bharath</td>\n      <td>Gupta</td>\n      <td>123413</td>\n      <td>1985-05-06</td>\n      <td>M</td>\n      <td>145 Berry Ln, Naperville,IL</td>\n      <td>660</td>\n      <td>65000.0</td>\n      <td>30003</td>\n      <td>7</td>\n    </tr>\n    <tr>\n      <th>8</th>\n      <td>E1009</td>\n      <td>Andrea</td>\n      <td>Jones</td>\n      <td>123414</td>\n      <td>1990-07-09</td>\n      <td>F</td>\n      <td>120 Fall Creek, Gary,IL</td>\n      <td>234</td>\n      <td>70000.0</td>\n      <td>30003</td>\n      <td>7</td>\n    </tr>\n    <tr>\n      <th>9</th>\n      <td>E1010</td>\n      <td>Ann</td>\n      <td>Jacob</td>\n      <td>123415</td>\n      <td>1982-03-30</td>\n      <td>F</td>\n      <td>111 Britany Springs,Elgin,IL</td>\n      <td>220</td>\n      <td>70000.0</td>\n      <td>30004</td>\n      <td>5</td>\n    </tr>\n  </tbody>\n</table>\n</div>",
                        "text/plain": "      EMP_ID   F_NAME   L_NAME        SSN      B_DATE SEX  \\\n0  E1001         John   Thomas  123456     1976-01-09   M   \n1  E1002        Alice    James  123457     1972-07-31   F   \n2  E1003        Steve    Wells  123458     1980-08-10   M   \n3  E1004      Santosh    Kumar  123459     1985-07-20   M   \n4  E1005        Ahmed  Hussain  123410     1981-01-04   M   \n5  E1006        Nancy    Allen  123411     1978-02-06   F   \n6  E1007         Mary   Thomas  123412     1975-05-05   F   \n7  E1008      Bharath    Gupta  123413     1985-05-06   M   \n8  E1009       Andrea    Jones  123414     1990-07-09   F   \n9  E1010          Ann    Jacob  123415     1982-03-30   F   \n\n                        ADDRESS     JOB_ID    SALARY MANAGER_ID     DEP_ID  \n0         5631 Rice, OakPark,IL  100        100000.0  30001      2          \n1        980 Berry ln, Elgin,IL  200         80000.0  30002      5          \n2          291 Springs, Gary,IL  300         50000.0  30002      5          \n3      511 Aurora Av, Aurora,IL  400         60000.0  30004      5          \n4       216 Oak Tree, Geneva,IL  500         70000.0  30001      2          \n5        111 Green Pl, Elgin,IL  600         90000.0  30001      2          \n6          100 Rose Pl, Gary,IL  650         65000.0  30003      7          \n7   145 Berry Ln, Naperville,IL  660         65000.0  30003      7          \n8       120 Fall Creek, Gary,IL  234         70000.0  30003      7          \n9  111 Britany Springs,Elgin,IL  220         70000.0  30004      5          "
                    },
                    "execution_count": 10,
                    "metadata": {},
                    "output_type": "execute_result"
                }
            ],
            "source": "#query statement to retrieve all rows in EMPLOYEES table\nselectQuery = \"select * from EMPLOYEES\"\n\n#retrieve the query results into a pandas dataframe\npdf = pandas.read_sql(selectQuery, pconn)\n\n#print the data in the pandas data frame\npdf"
        },
        {
            "cell_type": "code",
            "execution_count": 11,
            "metadata": {},
            "outputs": [
                {
                    "data": {
                        "text/plain": "(10, 11)"
                    },
                    "execution_count": 11,
                    "metadata": {},
                    "output_type": "execute_result"
                }
            ],
            "source": "pdf.shape"
        },
        {
            "cell_type": "code",
            "execution_count": 18,
            "metadata": {},
            "outputs": [
                {
                    "data": {
                        "text/html": "<div>\n<style scoped>\n    .dataframe tbody tr th:only-of-type {\n        vertical-align: middle;\n    }\n\n    .dataframe tbody tr th {\n        vertical-align: top;\n    }\n\n    .dataframe thead th {\n        text-align: right;\n    }\n</style>\n<table border=\"1\" class=\"dataframe\">\n  <thead>\n    <tr style=\"text-align: right;\">\n      <th></th>\n      <th>EMP_ID</th>\n      <th>F_NAME</th>\n      <th>L_NAME</th>\n      <th>SSN</th>\n      <th>B_DATE</th>\n      <th>SEX</th>\n      <th>ADDRESS</th>\n      <th>JOB_ID</th>\n      <th>SALARY</th>\n      <th>MANAGER_ID</th>\n      <th>DEP_ID</th>\n    </tr>\n  </thead>\n  <tbody>\n    <tr>\n      <th>1</th>\n      <td>E1002</td>\n      <td>Alice</td>\n      <td>James</td>\n      <td>123457</td>\n      <td>1972-07-31</td>\n      <td>F</td>\n      <td>980 Berry ln, Elgin,IL</td>\n      <td>200</td>\n      <td>80000.0</td>\n      <td>30002</td>\n      <td>5</td>\n    </tr>\n    <tr>\n      <th>2</th>\n      <td>E1003</td>\n      <td>Steve</td>\n      <td>Wells</td>\n      <td>123458</td>\n      <td>1980-08-10</td>\n      <td>M</td>\n      <td>291 Springs, Gary,IL</td>\n      <td>300</td>\n      <td>50000.0</td>\n      <td>30002</td>\n      <td>5</td>\n    </tr>\n    <tr>\n      <th>3</th>\n      <td>E1004</td>\n      <td>Santosh</td>\n      <td>Kumar</td>\n      <td>123459</td>\n      <td>1985-07-20</td>\n      <td>M</td>\n      <td>511 Aurora Av, Aurora,IL</td>\n      <td>400</td>\n      <td>60000.0</td>\n      <td>30004</td>\n      <td>5</td>\n    </tr>\n    <tr>\n      <th>4</th>\n      <td>E1005</td>\n      <td>Ahmed</td>\n      <td>Hussain</td>\n      <td>123410</td>\n      <td>1981-01-04</td>\n      <td>M</td>\n      <td>216 Oak Tree, Geneva,IL</td>\n      <td>500</td>\n      <td>70000.0</td>\n      <td>30001</td>\n      <td>2</td>\n    </tr>\n  </tbody>\n</table>\n</div>",
                        "text/plain": "      EMP_ID   F_NAME   L_NAME        SSN      B_DATE SEX  \\\n1  E1002        Alice    James  123457     1972-07-31   F   \n2  E1003        Steve    Wells  123458     1980-08-10   M   \n3  E1004      Santosh    Kumar  123459     1985-07-20   M   \n4  E1005        Ahmed  Hussain  123410     1981-01-04   M   \n\n                    ADDRESS     JOB_ID   SALARY MANAGER_ID     DEP_ID  \n1    980 Berry ln, Elgin,IL  200        80000.0  30002      5          \n2      291 Springs, Gary,IL  300        50000.0  30002      5          \n3  511 Aurora Av, Aurora,IL  400        60000.0  30004      5          \n4   216 Oak Tree, Geneva,IL  500        70000.0  30001      2          "
                    },
                    "execution_count": 18,
                    "metadata": {},
                    "output_type": "execute_result"
                }
            ],
            "source": "pdf.loc[1:4]"
        },
        {
            "cell_type": "code",
            "execution_count": 17,
            "metadata": {},
            "outputs": [
                {
                    "data": {
                        "text/html": "<div>\n<style scoped>\n    .dataframe tbody tr th:only-of-type {\n        vertical-align: middle;\n    }\n\n    .dataframe tbody tr th {\n        vertical-align: top;\n    }\n\n    .dataframe thead th {\n        text-align: right;\n    }\n</style>\n<table border=\"1\" class=\"dataframe\">\n  <thead>\n    <tr style=\"text-align: right;\">\n      <th></th>\n      <th>EMP_ID</th>\n      <th>F_NAME</th>\n      <th>L_NAME</th>\n      <th>SSN</th>\n      <th>B_DATE</th>\n      <th>SEX</th>\n      <th>ADDRESS</th>\n      <th>JOB_ID</th>\n      <th>SALARY</th>\n      <th>MANAGER_ID</th>\n      <th>DEP_ID</th>\n    </tr>\n  </thead>\n  <tbody>\n    <tr>\n      <th>0</th>\n      <td>E1001</td>\n      <td>John</td>\n      <td>Thomas</td>\n      <td>123456</td>\n      <td>1976-01-09</td>\n      <td>M</td>\n      <td>5631 Rice, OakPark,IL</td>\n      <td>100</td>\n      <td>100000.0</td>\n      <td>30001</td>\n      <td>2</td>\n    </tr>\n    <tr>\n      <th>1</th>\n      <td>E1002</td>\n      <td>Alice</td>\n      <td>James</td>\n      <td>123457</td>\n      <td>1972-07-31</td>\n      <td>F</td>\n      <td>980 Berry ln, Elgin,IL</td>\n      <td>200</td>\n      <td>80000.0</td>\n      <td>30002</td>\n      <td>5</td>\n    </tr>\n    <tr>\n      <th>2</th>\n      <td>E1003</td>\n      <td>Steve</td>\n      <td>Wells</td>\n      <td>123458</td>\n      <td>1980-08-10</td>\n      <td>M</td>\n      <td>291 Springs, Gary,IL</td>\n      <td>300</td>\n      <td>50000.0</td>\n      <td>30002</td>\n      <td>5</td>\n    </tr>\n    <tr>\n      <th>3</th>\n      <td>E1004</td>\n      <td>Santosh</td>\n      <td>Kumar</td>\n      <td>123459</td>\n      <td>1985-07-20</td>\n      <td>M</td>\n      <td>511 Aurora Av, Aurora,IL</td>\n      <td>400</td>\n      <td>60000.0</td>\n      <td>30004</td>\n      <td>5</td>\n    </tr>\n  </tbody>\n</table>\n</div>",
                        "text/plain": "      EMP_ID   F_NAME  L_NAME        SSN      B_DATE SEX  \\\n0  E1001         John  Thomas  123456     1976-01-09   M   \n1  E1002        Alice   James  123457     1972-07-31   F   \n2  E1003        Steve   Wells  123458     1980-08-10   M   \n3  E1004      Santosh   Kumar  123459     1985-07-20   M   \n\n                    ADDRESS     JOB_ID    SALARY MANAGER_ID     DEP_ID  \n0     5631 Rice, OakPark,IL  100        100000.0  30001      2          \n1    980 Berry ln, Elgin,IL  200         80000.0  30002      5          \n2      291 Springs, Gary,IL  300         50000.0  30002      5          \n3  511 Aurora Av, Aurora,IL  400         60000.0  30004      5          "
                    },
                    "execution_count": 17,
                    "metadata": {},
                    "output_type": "execute_result"
                }
            ],
            "source": "pdf.loc[0:3]"
        },
        {
            "cell_type": "code",
            "execution_count": 24,
            "metadata": {},
            "outputs": [
                {
                    "data": {
                        "text/plain": "True"
                    },
                    "execution_count": 24,
                    "metadata": {},
                    "output_type": "execute_result"
                }
            ],
            "source": "ibm_db.close(conn)"
        },
        {
            "cell_type": "code",
            "execution_count": null,
            "metadata": {},
            "outputs": [],
            "source": ""
        }
    ],
    "metadata": {
        "kernelspec": {
            "display_name": "Python 3.9",
            "language": "python",
            "name": "python3"
        },
        "language_info": {
            "codemirror_mode": {
                "name": "ipython",
                "version": 3
            },
            "file_extension": ".py",
            "mimetype": "text/x-python",
            "name": "python",
            "nbconvert_exporter": "python",
            "pygments_lexer": "ipython3",
            "version": "3.9.7"
        }
    },
    "nbformat": 4,
    "nbformat_minor": 1
}