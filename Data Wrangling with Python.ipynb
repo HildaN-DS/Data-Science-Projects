{
    "cells": [
        {
            "cell_type": "markdown",
            "metadata": {
                "collapsed": true
            },
            "source": "#### Import the neccesary librariries for data wrangling"
        },
        {
            "cell_type": "code",
            "execution_count": 1,
            "metadata": {},
            "outputs": [],
            "source": "import pandas as pd\nimport numpy as np"
        },
        {
            "cell_type": "markdown",
            "metadata": {},
            "source": "#### Reading Data"
        },
        {
            "cell_type": "code",
            "execution_count": 2,
            "metadata": {},
            "outputs": [
                {
                    "data": {
                        "text/html": "<div>\n<style scoped>\n    .dataframe tbody tr th:only-of-type {\n        vertical-align: middle;\n    }\n\n    .dataframe tbody tr th {\n        vertical-align: top;\n    }\n\n    .dataframe thead th {\n        text-align: right;\n    }\n</style>\n<table border=\"1\" class=\"dataframe\">\n  <thead>\n    <tr style=\"text-align: right;\">\n      <th></th>\n      <th>sepal_length</th>\n      <th>sepal_width</th>\n      <th>petal_length</th>\n      <th>petal_width</th>\n      <th>species</th>\n    </tr>\n  </thead>\n  <tbody>\n    <tr>\n      <th>0</th>\n      <td>5.1</td>\n      <td>3.5</td>\n      <td>1.4</td>\n      <td>0.2</td>\n      <td>Iris-setosa</td>\n    </tr>\n    <tr>\n      <th>1</th>\n      <td>4.9</td>\n      <td>3.0</td>\n      <td>1.4</td>\n      <td>0.2</td>\n      <td>Iris-setosa</td>\n    </tr>\n    <tr>\n      <th>2</th>\n      <td>4.7</td>\n      <td>3.2</td>\n      <td>1.3</td>\n      <td>0.2</td>\n      <td>Iris-setosa</td>\n    </tr>\n    <tr>\n      <th>3</th>\n      <td>4.6</td>\n      <td>3.1</td>\n      <td>1.5</td>\n      <td>0.2</td>\n      <td>Iris-setosa</td>\n    </tr>\n    <tr>\n      <th>4</th>\n      <td>5.0</td>\n      <td>3.6</td>\n      <td>1.4</td>\n      <td>0.2</td>\n      <td>Iris-setosa</td>\n    </tr>\n  </tbody>\n</table>\n</div>",
                        "text/plain": "   sepal_length  sepal_width  petal_length  petal_width      species\n0           5.1          3.5           1.4          0.2  Iris-setosa\n1           4.9          3.0           1.4          0.2  Iris-setosa\n2           4.7          3.2           1.3          0.2  Iris-setosa\n3           4.6          3.1           1.5          0.2  Iris-setosa\n4           5.0          3.6           1.4          0.2  Iris-setosa"
                    },
                    "execution_count": 2,
                    "metadata": {},
                    "output_type": "execute_result"
                }
            ],
            "source": "# Example 1\ndf = pd.read_csv(\"http://bit.ly/IrisDataset\")\ndf.head()"
        },
        {
            "cell_type": "code",
            "execution_count": 3,
            "metadata": {},
            "outputs": [
                {
                    "data": {
                        "text/html": "<div>\n<style scoped>\n    .dataframe tbody tr th:only-of-type {\n        vertical-align: middle;\n    }\n\n    .dataframe tbody tr th {\n        vertical-align: top;\n    }\n\n    .dataframe thead th {\n        text-align: right;\n    }\n</style>\n<table border=\"1\" class=\"dataframe\">\n  <thead>\n    <tr style=\"text-align: right;\">\n      <th></th>\n      <th>city</th>\n      <th>country</th>\n      <th>latitude</th>\n      <th>longitude</th>\n      <th>temperature</th>\n    </tr>\n  </thead>\n  <tbody>\n    <tr>\n      <th>0</th>\n      <td>Aalborg</td>\n      <td>Denmark</td>\n      <td>57.03</td>\n      <td>9.92</td>\n      <td>7.52</td>\n    </tr>\n    <tr>\n      <th>1</th>\n      <td>Aberdeen</td>\n      <td>United Kingdom</td>\n      <td>57.17</td>\n      <td>-2.08</td>\n      <td>8.10</td>\n    </tr>\n    <tr>\n      <th>2</th>\n      <td>Abisko</td>\n      <td>Sweden</td>\n      <td>63.35</td>\n      <td>18.83</td>\n      <td>0.20</td>\n    </tr>\n    <tr>\n      <th>3</th>\n      <td>Adana</td>\n      <td>Turkey</td>\n      <td>36.99</td>\n      <td>35.32</td>\n      <td>18.67</td>\n    </tr>\n    <tr>\n      <th>4</th>\n      <td>Albacete</td>\n      <td>Spain</td>\n      <td>39.00</td>\n      <td>-1.87</td>\n      <td>12.62</td>\n    </tr>\n  </tbody>\n</table>\n</div>",
                        "text/plain": "       city         country  latitude  longitude  temperature\n0   Aalborg         Denmark     57.03       9.92         7.52\n1  Aberdeen  United Kingdom     57.17      -2.08         8.10\n2    Abisko          Sweden     63.35      18.83         0.20\n3     Adana          Turkey     36.99      35.32        18.67\n4  Albacete           Spain     39.00      -1.87        12.62"
                    },
                    "execution_count": 3,
                    "metadata": {},
                    "output_type": "execute_result"
                }
            ],
            "source": "# Example 2\ndf_cities = pd.read_csv('http://bit.ly/CitiesDataset1')\n\ndf_cities.head()"
        },
        {
            "cell_type": "code",
            "execution_count": 4,
            "metadata": {},
            "outputs": [
                {
                    "data": {
                        "text/html": "<div>\n<style scoped>\n    .dataframe tbody tr th:only-of-type {\n        vertical-align: middle;\n    }\n\n    .dataframe tbody tr th {\n        vertical-align: top;\n    }\n\n    .dataframe thead th {\n        text-align: right;\n    }\n</style>\n<table border=\"1\" class=\"dataframe\">\n  <thead>\n    <tr style=\"text-align: right;\">\n      <th></th>\n      <th>hotel</th>\n      <th>is_canceled</th>\n      <th>lead_time</th>\n      <th>arrival_date_year</th>\n      <th>arrival_date_month</th>\n      <th>arrival_date_week_number</th>\n      <th>arrival_date_day_of_month</th>\n      <th>stays_in_weekend_nights</th>\n      <th>stays_in_week_nights</th>\n      <th>adults</th>\n      <th>...</th>\n      <th>deposit_type</th>\n      <th>agent</th>\n      <th>company</th>\n      <th>days_in_waiting_list</th>\n      <th>customer_type</th>\n      <th>adr</th>\n      <th>required_car_parking_spaces</th>\n      <th>total_of_special_requests</th>\n      <th>reservation_status</th>\n      <th>reservation_status_date</th>\n    </tr>\n  </thead>\n  <tbody>\n    <tr>\n      <th>0</th>\n      <td>Resort Hotel</td>\n      <td>0</td>\n      <td>342</td>\n      <td>2015</td>\n      <td>July</td>\n      <td>27</td>\n      <td>1</td>\n      <td>0</td>\n      <td>0</td>\n      <td>2</td>\n      <td>...</td>\n      <td>No Deposit</td>\n      <td>NaN</td>\n      <td>NaN</td>\n      <td>0</td>\n      <td>Transient</td>\n      <td>0.0</td>\n      <td>0</td>\n      <td>0</td>\n      <td>Check-Out</td>\n      <td>2015-07-01</td>\n    </tr>\n    <tr>\n      <th>1</th>\n      <td>Resort Hotel</td>\n      <td>0</td>\n      <td>737</td>\n      <td>2015</td>\n      <td>July</td>\n      <td>27</td>\n      <td>1</td>\n      <td>0</td>\n      <td>0</td>\n      <td>2</td>\n      <td>...</td>\n      <td>No Deposit</td>\n      <td>NaN</td>\n      <td>NaN</td>\n      <td>0</td>\n      <td>Transient</td>\n      <td>0.0</td>\n      <td>0</td>\n      <td>0</td>\n      <td>Check-Out</td>\n      <td>2015-07-01</td>\n    </tr>\n    <tr>\n      <th>2</th>\n      <td>Resort Hotel</td>\n      <td>0</td>\n      <td>7</td>\n      <td>2015</td>\n      <td>July</td>\n      <td>27</td>\n      <td>1</td>\n      <td>0</td>\n      <td>1</td>\n      <td>1</td>\n      <td>...</td>\n      <td>No Deposit</td>\n      <td>NaN</td>\n      <td>NaN</td>\n      <td>0</td>\n      <td>Transient</td>\n      <td>75.0</td>\n      <td>0</td>\n      <td>0</td>\n      <td>Check-Out</td>\n      <td>2015-07-02</td>\n    </tr>\n    <tr>\n      <th>3</th>\n      <td>Resort Hotel</td>\n      <td>0</td>\n      <td>13</td>\n      <td>2015</td>\n      <td>July</td>\n      <td>27</td>\n      <td>1</td>\n      <td>0</td>\n      <td>1</td>\n      <td>1</td>\n      <td>...</td>\n      <td>No Deposit</td>\n      <td>304.0</td>\n      <td>NaN</td>\n      <td>0</td>\n      <td>Transient</td>\n      <td>75.0</td>\n      <td>0</td>\n      <td>0</td>\n      <td>Check-Out</td>\n      <td>2015-07-02</td>\n    </tr>\n    <tr>\n      <th>4</th>\n      <td>Resort Hotel</td>\n      <td>0</td>\n      <td>14</td>\n      <td>2015</td>\n      <td>July</td>\n      <td>27</td>\n      <td>1</td>\n      <td>0</td>\n      <td>2</td>\n      <td>2</td>\n      <td>...</td>\n      <td>No Deposit</td>\n      <td>240.0</td>\n      <td>NaN</td>\n      <td>0</td>\n      <td>Transient</td>\n      <td>98.0</td>\n      <td>0</td>\n      <td>1</td>\n      <td>Check-Out</td>\n      <td>2015-07-03</td>\n    </tr>\n  </tbody>\n</table>\n<p>5 rows \u00d7 32 columns</p>\n</div>",
                        "text/plain": "          hotel  is_canceled  lead_time  arrival_date_year arrival_date_month  \\\n0  Resort Hotel            0        342               2015               July   \n1  Resort Hotel            0        737               2015               July   \n2  Resort Hotel            0          7               2015               July   \n3  Resort Hotel            0         13               2015               July   \n4  Resort Hotel            0         14               2015               July   \n\n   arrival_date_week_number  arrival_date_day_of_month  \\\n0                        27                          1   \n1                        27                          1   \n2                        27                          1   \n3                        27                          1   \n4                        27                          1   \n\n   stays_in_weekend_nights  stays_in_week_nights  adults  ...  deposit_type  \\\n0                        0                     0       2  ...    No Deposit   \n1                        0                     0       2  ...    No Deposit   \n2                        0                     1       1  ...    No Deposit   \n3                        0                     1       1  ...    No Deposit   \n4                        0                     2       2  ...    No Deposit   \n\n   agent company days_in_waiting_list customer_type   adr  \\\n0    NaN     NaN                    0     Transient   0.0   \n1    NaN     NaN                    0     Transient   0.0   \n2    NaN     NaN                    0     Transient  75.0   \n3  304.0     NaN                    0     Transient  75.0   \n4  240.0     NaN                    0     Transient  98.0   \n\n   required_car_parking_spaces  total_of_special_requests  reservation_status  \\\n0                            0                          0           Check-Out   \n1                            0                          0           Check-Out   \n2                            0                          0           Check-Out   \n3                            0                          0           Check-Out   \n4                            0                          1           Check-Out   \n\n  reservation_status_date  \n0              2015-07-01  \n1              2015-07-01  \n2              2015-07-02  \n3              2015-07-02  \n4              2015-07-03  \n\n[5 rows x 32 columns]"
                    },
                    "execution_count": 4,
                    "metadata": {},
                    "output_type": "execute_result"
                }
            ],
            "source": "# Example 3\ndf_hotels = pd.read_csv(\"https://bit.ly/HotelBookingsDB\")\n\ndf_hotels.head()"
        },
        {
            "cell_type": "code",
            "execution_count": 5,
            "metadata": {},
            "outputs": [
                {
                    "data": {
                        "text/html": "<div>\n<style scoped>\n    .dataframe tbody tr th:only-of-type {\n        vertical-align: middle;\n    }\n\n    .dataframe tbody tr th {\n        vertical-align: top;\n    }\n\n    .dataframe thead th {\n        text-align: right;\n    }\n</style>\n<table border=\"1\" class=\"dataframe\">\n  <thead>\n    <tr style=\"text-align: right;\">\n      <th></th>\n      <th>Windmill</th>\n      <th>Wind Speed (m/s)</th>\n      <th>Power output (MW)</th>\n    </tr>\n  </thead>\n  <tbody>\n    <tr>\n      <th>0</th>\n      <td>a1</td>\n      <td>1.096875</td>\n      <td>0.000000</td>\n    </tr>\n    <tr>\n      <th>1</th>\n      <td>a2</td>\n      <td>1.231528</td>\n      <td>0.000000</td>\n    </tr>\n    <tr>\n      <th>2</th>\n      <td>a3</td>\n      <td>1.275139</td>\n      <td>0.005479</td>\n    </tr>\n    <tr>\n      <th>3</th>\n      <td>a4</td>\n      <td>1.365486</td>\n      <td>0.010104</td>\n    </tr>\n    <tr>\n      <th>4</th>\n      <td>a5</td>\n      <td>1.387778</td>\n      <td>0.010812</td>\n    </tr>\n  </tbody>\n</table>\n</div>",
                        "text/plain": "  Windmill  Wind Speed (m/s)  Power output (MW)\n0       a1          1.096875           0.000000\n1       a2          1.231528           0.000000\n2       a3          1.275139           0.005479\n3       a4          1.365486           0.010104\n4       a5          1.387778           0.010812"
                    },
                    "execution_count": 5,
                    "metadata": {},
                    "output_type": "execute_result"
                }
            ],
            "source": "# Example 4\ndf_windmill = pd.read_excel('http://bit.ly/WindmillDataset')\n\ndf_windmill.head()"
        },
        {
            "cell_type": "markdown",
            "metadata": {},
            "source": "#### Data Exploration"
        },
        {
            "cell_type": "code",
            "execution_count": 6,
            "metadata": {},
            "outputs": [
                {
                    "data": {
                        "text/html": "<div>\n<style scoped>\n    .dataframe tbody tr th:only-of-type {\n        vertical-align: middle;\n    }\n\n    .dataframe tbody tr th {\n        vertical-align: top;\n    }\n\n    .dataframe thead th {\n        text-align: right;\n    }\n</style>\n<table border=\"1\" class=\"dataframe\">\n  <thead>\n    <tr style=\"text-align: right;\">\n      <th></th>\n      <th>hotel</th>\n      <th>is_canceled</th>\n      <th>lead_time</th>\n      <th>arrival_date_year</th>\n      <th>arrival_date_month</th>\n      <th>arrival_date_week_number</th>\n      <th>arrival_date_day_of_month</th>\n      <th>stays_in_weekend_nights</th>\n      <th>stays_in_week_nights</th>\n      <th>adults</th>\n      <th>...</th>\n      <th>deposit_type</th>\n      <th>agent</th>\n      <th>company</th>\n      <th>days_in_waiting_list</th>\n      <th>customer_type</th>\n      <th>adr</th>\n      <th>required_car_parking_spaces</th>\n      <th>total_of_special_requests</th>\n      <th>reservation_status</th>\n      <th>reservation_status_date</th>\n    </tr>\n  </thead>\n  <tbody>\n    <tr>\n      <th>119385</th>\n      <td>City Hotel</td>\n      <td>0</td>\n      <td>23</td>\n      <td>2017</td>\n      <td>August</td>\n      <td>35</td>\n      <td>30</td>\n      <td>2</td>\n      <td>5</td>\n      <td>2</td>\n      <td>...</td>\n      <td>No Deposit</td>\n      <td>394.0</td>\n      <td>NaN</td>\n      <td>0</td>\n      <td>Transient</td>\n      <td>96.14</td>\n      <td>0</td>\n      <td>0</td>\n      <td>Check-Out</td>\n      <td>2017-09-06</td>\n    </tr>\n    <tr>\n      <th>119386</th>\n      <td>City Hotel</td>\n      <td>0</td>\n      <td>102</td>\n      <td>2017</td>\n      <td>August</td>\n      <td>35</td>\n      <td>31</td>\n      <td>2</td>\n      <td>5</td>\n      <td>3</td>\n      <td>...</td>\n      <td>No Deposit</td>\n      <td>9.0</td>\n      <td>NaN</td>\n      <td>0</td>\n      <td>Transient</td>\n      <td>225.43</td>\n      <td>0</td>\n      <td>2</td>\n      <td>Check-Out</td>\n      <td>2017-09-07</td>\n    </tr>\n    <tr>\n      <th>119387</th>\n      <td>City Hotel</td>\n      <td>0</td>\n      <td>34</td>\n      <td>2017</td>\n      <td>August</td>\n      <td>35</td>\n      <td>31</td>\n      <td>2</td>\n      <td>5</td>\n      <td>2</td>\n      <td>...</td>\n      <td>No Deposit</td>\n      <td>9.0</td>\n      <td>NaN</td>\n      <td>0</td>\n      <td>Transient</td>\n      <td>157.71</td>\n      <td>0</td>\n      <td>4</td>\n      <td>Check-Out</td>\n      <td>2017-09-07</td>\n    </tr>\n    <tr>\n      <th>119388</th>\n      <td>City Hotel</td>\n      <td>0</td>\n      <td>109</td>\n      <td>2017</td>\n      <td>August</td>\n      <td>35</td>\n      <td>31</td>\n      <td>2</td>\n      <td>5</td>\n      <td>2</td>\n      <td>...</td>\n      <td>No Deposit</td>\n      <td>89.0</td>\n      <td>NaN</td>\n      <td>0</td>\n      <td>Transient</td>\n      <td>104.40</td>\n      <td>0</td>\n      <td>0</td>\n      <td>Check-Out</td>\n      <td>2017-09-07</td>\n    </tr>\n    <tr>\n      <th>119389</th>\n      <td>City Hotel</td>\n      <td>0</td>\n      <td>205</td>\n      <td>2017</td>\n      <td>August</td>\n      <td>35</td>\n      <td>29</td>\n      <td>2</td>\n      <td>7</td>\n      <td>2</td>\n      <td>...</td>\n      <td>No Deposit</td>\n      <td>9.0</td>\n      <td>NaN</td>\n      <td>0</td>\n      <td>Transient</td>\n      <td>151.20</td>\n      <td>0</td>\n      <td>2</td>\n      <td>Check-Out</td>\n      <td>2017-09-07</td>\n    </tr>\n  </tbody>\n</table>\n<p>5 rows \u00d7 32 columns</p>\n</div>",
                        "text/plain": "             hotel  is_canceled  lead_time  arrival_date_year  \\\n119385  City Hotel            0         23               2017   \n119386  City Hotel            0        102               2017   \n119387  City Hotel            0         34               2017   \n119388  City Hotel            0        109               2017   \n119389  City Hotel            0        205               2017   \n\n       arrival_date_month  arrival_date_week_number  \\\n119385             August                        35   \n119386             August                        35   \n119387             August                        35   \n119388             August                        35   \n119389             August                        35   \n\n        arrival_date_day_of_month  stays_in_weekend_nights  \\\n119385                         30                        2   \n119386                         31                        2   \n119387                         31                        2   \n119388                         31                        2   \n119389                         29                        2   \n\n        stays_in_week_nights  adults  ...  deposit_type  agent company  \\\n119385                     5       2  ...    No Deposit  394.0     NaN   \n119386                     5       3  ...    No Deposit    9.0     NaN   \n119387                     5       2  ...    No Deposit    9.0     NaN   \n119388                     5       2  ...    No Deposit   89.0     NaN   \n119389                     7       2  ...    No Deposit    9.0     NaN   \n\n       days_in_waiting_list customer_type     adr  \\\n119385                    0     Transient   96.14   \n119386                    0     Transient  225.43   \n119387                    0     Transient  157.71   \n119388                    0     Transient  104.40   \n119389                    0     Transient  151.20   \n\n        required_car_parking_spaces  total_of_special_requests  \\\n119385                            0                          0   \n119386                            0                          2   \n119387                            0                          4   \n119388                            0                          0   \n119389                            0                          2   \n\n        reservation_status reservation_status_date  \n119385           Check-Out              2017-09-06  \n119386           Check-Out              2017-09-07  \n119387           Check-Out              2017-09-07  \n119388           Check-Out              2017-09-07  \n119389           Check-Out              2017-09-07  \n\n[5 rows x 32 columns]"
                    },
                    "execution_count": 6,
                    "metadata": {},
                    "output_type": "execute_result"
                }
            ],
            "source": "df_hotels.tail()"
        },
        {
            "cell_type": "code",
            "execution_count": 7,
            "metadata": {},
            "outputs": [
                {
                    "data": {
                        "text/plain": "(150, 5)"
                    },
                    "execution_count": 7,
                    "metadata": {},
                    "output_type": "execute_result"
                }
            ],
            "source": "df.shape"
        },
        {
            "cell_type": "code",
            "execution_count": 8,
            "metadata": {},
            "outputs": [
                {
                    "data": {
                        "text/plain": "(119390, 32)"
                    },
                    "execution_count": 8,
                    "metadata": {},
                    "output_type": "execute_result"
                }
            ],
            "source": "df_hotels.shape"
        },
        {
            "cell_type": "code",
            "execution_count": 9,
            "metadata": {},
            "outputs": [
                {
                    "data": {
                        "text/html": "<div>\n<style scoped>\n    .dataframe tbody tr th:only-of-type {\n        vertical-align: middle;\n    }\n\n    .dataframe tbody tr th {\n        vertical-align: top;\n    }\n\n    .dataframe thead th {\n        text-align: right;\n    }\n</style>\n<table border=\"1\" class=\"dataframe\">\n  <thead>\n    <tr style=\"text-align: right;\">\n      <th></th>\n      <th>hotel</th>\n      <th>is_canceled</th>\n      <th>lead_time</th>\n      <th>arrival_date_year</th>\n      <th>arrival_date_month</th>\n      <th>arrival_date_week_number</th>\n      <th>arrival_date_day_of_month</th>\n      <th>stays_in_weekend_nights</th>\n      <th>stays_in_week_nights</th>\n      <th>adults</th>\n      <th>...</th>\n      <th>deposit_type</th>\n      <th>agent</th>\n      <th>company</th>\n      <th>days_in_waiting_list</th>\n      <th>customer_type</th>\n      <th>adr</th>\n      <th>required_car_parking_spaces</th>\n      <th>total_of_special_requests</th>\n      <th>reservation_status</th>\n      <th>reservation_status_date</th>\n    </tr>\n  </thead>\n  <tbody>\n    <tr>\n      <th>101461</th>\n      <td>City Hotel</td>\n      <td>0</td>\n      <td>2</td>\n      <td>2016</td>\n      <td>November</td>\n      <td>46</td>\n      <td>6</td>\n      <td>2</td>\n      <td>5</td>\n      <td>2</td>\n      <td>...</td>\n      <td>No Deposit</td>\n      <td>27.0</td>\n      <td>NaN</td>\n      <td>0</td>\n      <td>Transient</td>\n      <td>78.20</td>\n      <td>0</td>\n      <td>1</td>\n      <td>Check-Out</td>\n      <td>2016-11-13</td>\n    </tr>\n    <tr>\n      <th>57616</th>\n      <td>City Hotel</td>\n      <td>1</td>\n      <td>447</td>\n      <td>2016</td>\n      <td>September</td>\n      <td>40</td>\n      <td>29</td>\n      <td>0</td>\n      <td>2</td>\n      <td>2</td>\n      <td>...</td>\n      <td>Non Refund</td>\n      <td>1.0</td>\n      <td>NaN</td>\n      <td>0</td>\n      <td>Transient</td>\n      <td>62.00</td>\n      <td>0</td>\n      <td>0</td>\n      <td>Canceled</td>\n      <td>2015-10-21</td>\n    </tr>\n    <tr>\n      <th>16498</th>\n      <td>Resort Hotel</td>\n      <td>0</td>\n      <td>0</td>\n      <td>2015</td>\n      <td>August</td>\n      <td>35</td>\n      <td>29</td>\n      <td>1</td>\n      <td>1</td>\n      <td>2</td>\n      <td>...</td>\n      <td>No Deposit</td>\n      <td>240.0</td>\n      <td>NaN</td>\n      <td>0</td>\n      <td>Transient</td>\n      <td>120.60</td>\n      <td>0</td>\n      <td>1</td>\n      <td>Check-Out</td>\n      <td>2015-08-31</td>\n    </tr>\n    <tr>\n      <th>108918</th>\n      <td>City Hotel</td>\n      <td>0</td>\n      <td>162</td>\n      <td>2017</td>\n      <td>April</td>\n      <td>13</td>\n      <td>1</td>\n      <td>2</td>\n      <td>1</td>\n      <td>2</td>\n      <td>...</td>\n      <td>No Deposit</td>\n      <td>296.0</td>\n      <td>NaN</td>\n      <td>105</td>\n      <td>Transient-Party</td>\n      <td>88.20</td>\n      <td>0</td>\n      <td>0</td>\n      <td>Check-Out</td>\n      <td>2017-04-04</td>\n    </tr>\n    <tr>\n      <th>20939</th>\n      <td>Resort Hotel</td>\n      <td>0</td>\n      <td>4</td>\n      <td>2016</td>\n      <td>February</td>\n      <td>7</td>\n      <td>13</td>\n      <td>0</td>\n      <td>1</td>\n      <td>2</td>\n      <td>...</td>\n      <td>No Deposit</td>\n      <td>250.0</td>\n      <td>NaN</td>\n      <td>0</td>\n      <td>Transient</td>\n      <td>55.00</td>\n      <td>0</td>\n      <td>1</td>\n      <td>Check-Out</td>\n      <td>2016-02-14</td>\n    </tr>\n    <tr>\n      <th>93879</th>\n      <td>City Hotel</td>\n      <td>0</td>\n      <td>190</td>\n      <td>2016</td>\n      <td>July</td>\n      <td>31</td>\n      <td>24</td>\n      <td>2</td>\n      <td>2</td>\n      <td>2</td>\n      <td>...</td>\n      <td>No Deposit</td>\n      <td>9.0</td>\n      <td>NaN</td>\n      <td>0</td>\n      <td>Transient</td>\n      <td>99.95</td>\n      <td>1</td>\n      <td>1</td>\n      <td>Check-Out</td>\n      <td>2016-07-28</td>\n    </tr>\n  </tbody>\n</table>\n<p>6 rows \u00d7 32 columns</p>\n</div>",
                        "text/plain": "               hotel  is_canceled  lead_time  arrival_date_year  \\\n101461    City Hotel            0          2               2016   \n57616     City Hotel            1        447               2016   \n16498   Resort Hotel            0          0               2015   \n108918    City Hotel            0        162               2017   \n20939   Resort Hotel            0          4               2016   \n93879     City Hotel            0        190               2016   \n\n       arrival_date_month  arrival_date_week_number  \\\n101461           November                        46   \n57616           September                        40   \n16498              August                        35   \n108918              April                        13   \n20939            February                         7   \n93879                July                        31   \n\n        arrival_date_day_of_month  stays_in_weekend_nights  \\\n101461                          6                        2   \n57616                          29                        0   \n16498                          29                        1   \n108918                          1                        2   \n20939                          13                        0   \n93879                          24                        2   \n\n        stays_in_week_nights  adults  ...  deposit_type  agent company  \\\n101461                     5       2  ...    No Deposit   27.0     NaN   \n57616                      2       2  ...    Non Refund    1.0     NaN   \n16498                      1       2  ...    No Deposit  240.0     NaN   \n108918                     1       2  ...    No Deposit  296.0     NaN   \n20939                      1       2  ...    No Deposit  250.0     NaN   \n93879                      2       2  ...    No Deposit    9.0     NaN   \n\n       days_in_waiting_list    customer_type     adr  \\\n101461                    0        Transient   78.20   \n57616                     0        Transient   62.00   \n16498                     0        Transient  120.60   \n108918                  105  Transient-Party   88.20   \n20939                     0        Transient   55.00   \n93879                     0        Transient   99.95   \n\n        required_car_parking_spaces  total_of_special_requests  \\\n101461                            0                          1   \n57616                             0                          0   \n16498                             0                          1   \n108918                            0                          0   \n20939                             0                          1   \n93879                             1                          1   \n\n        reservation_status reservation_status_date  \n101461           Check-Out              2016-11-13  \n57616             Canceled              2015-10-21  \n16498            Check-Out              2015-08-31  \n108918           Check-Out              2017-04-04  \n20939            Check-Out              2016-02-14  \n93879            Check-Out              2016-07-28  \n\n[6 rows x 32 columns]"
                    },
                    "execution_count": 9,
                    "metadata": {},
                    "output_type": "execute_result"
                }
            ],
            "source": "df_hotels.sample(6)"
        },
        {
            "cell_type": "code",
            "execution_count": 10,
            "metadata": {},
            "outputs": [
                {
                    "data": {
                        "text/plain": "sepal_length    float64\nsepal_width     float64\npetal_length    float64\npetal_width     float64\nspecies          object\ndtype: object"
                    },
                    "execution_count": 10,
                    "metadata": {},
                    "output_type": "execute_result"
                }
            ],
            "source": "df.dtypes"
        },
        {
            "cell_type": "code",
            "execution_count": 11,
            "metadata": {},
            "outputs": [
                {
                    "data": {
                        "text/plain": "hotel                              object\nis_canceled                         int64\nlead_time                           int64\narrival_date_year                   int64\narrival_date_month                 object\narrival_date_week_number            int64\narrival_date_day_of_month           int64\nstays_in_weekend_nights             int64\nstays_in_week_nights                int64\nadults                              int64\nchildren                          float64\nbabies                              int64\nmeal                               object\ncountry                            object\nmarket_segment                     object\ndistribution_channel               object\nis_repeated_guest                   int64\nprevious_cancellations              int64\nprevious_bookings_not_canceled      int64\nreserved_room_type                 object\nassigned_room_type                 object\nbooking_changes                     int64\ndeposit_type                       object\nagent                             float64\ncompany                           float64\ndays_in_waiting_list                int64\ncustomer_type                      object\nadr                               float64\nrequired_car_parking_spaces         int64\ntotal_of_special_requests           int64\nreservation_status                 object\nreservation_status_date            object\ndtype: object"
                    },
                    "execution_count": 11,
                    "metadata": {},
                    "output_type": "execute_result"
                }
            ],
            "source": "df_hotels.dtypes"
        },
        {
            "cell_type": "markdown",
            "metadata": {},
            "source": "#### Standardisation"
        },
        {
            "cell_type": "code",
            "execution_count": 12,
            "metadata": {},
            "outputs": [
                {
                    "data": {
                        "text/html": "<div>\n<style scoped>\n    .dataframe tbody tr th:only-of-type {\n        vertical-align: middle;\n    }\n\n    .dataframe tbody tr th {\n        vertical-align: top;\n    }\n\n    .dataframe thead th {\n        text-align: right;\n    }\n</style>\n<table border=\"1\" class=\"dataframe\">\n  <thead>\n    <tr style=\"text-align: right;\">\n      <th></th>\n      <th>NAME;CITY;COUNTRY;HEIGHT;WEIGHT;ACCOUNT A;ACCOUNT B;TOTAL ACCOUNT</th>\n    </tr>\n  </thead>\n  <tbody>\n    <tr>\n      <th>0</th>\n      <td>Adi Dako ;LISBON    ;PORTUGAL     ;56;132;2390...</td>\n    </tr>\n    <tr>\n      <th>1</th>\n      <td>John Paul;LONDON   ;UNITED KINGDOM;62;165;4500...</td>\n    </tr>\n    <tr>\n      <th>2</th>\n      <td>Cindy Jules;Stockholm;Sweden;48;117;;5504;8949</td>\n    </tr>\n    <tr>\n      <th>3</th>\n      <td>Arthur Kegels;BRUSSELS;BELGIUM;59;121;4344...</td>\n    </tr>\n    <tr>\n      <th>4</th>\n      <td>Freya Bismark;  Berlin;GERMANYY;53;126;7000;19...</td>\n    </tr>\n  </tbody>\n</table>\n</div>",
                        "text/plain": "  NAME;CITY;COUNTRY;HEIGHT;WEIGHT;ACCOUNT A;ACCOUNT B;TOTAL ACCOUNT\n0  Adi Dako ;LISBON    ;PORTUGAL     ;56;132;2390...               \n1  John Paul;LONDON   ;UNITED KINGDOM;62;165;4500...               \n2     Cindy Jules;Stockholm;Sweden;48;117;;5504;8949               \n3      Arthur Kegels;BRUSSELS;BELGIUM;59;121;4344...               \n4  Freya Bismark;  Berlin;GERMANYY;53;126;7000;19...               "
                    },
                    "execution_count": 12,
                    "metadata": {},
                    "output_type": "execute_result"
                }
            ],
            "source": "# We will be using the data cleaning dataset\ndf_dataclean = pd.read_csv('http://bit.ly/DataCleaningDataset')\n\ndf_dataclean.head()"
        },
        {
            "cell_type": "code",
            "execution_count": 13,
            "metadata": {},
            "outputs": [
                {
                    "name": "stderr",
                    "output_type": "stream",
                    "text": "/opt/conda/envs/Python-3.9/lib/python3.9/site-packages/IPython/core/interactiveshell.py:3444: FutureWarning: In a future version of pandas all arguments of read_csv except for the argument 'filepath_or_buffer' will be keyword-only\n  exec(code_obj, self.user_global_ns, self.user_ns)\n"
                },
                {
                    "data": {
                        "text/html": "<div>\n<style scoped>\n    .dataframe tbody tr th:only-of-type {\n        vertical-align: middle;\n    }\n\n    .dataframe tbody tr th {\n        vertical-align: top;\n    }\n\n    .dataframe thead th {\n        text-align: right;\n    }\n</style>\n<table border=\"1\" class=\"dataframe\">\n  <thead>\n    <tr style=\"text-align: right;\">\n      <th></th>\n      <th>NAME</th>\n      <th>CITY</th>\n      <th>COUNTRY</th>\n      <th>HEIGHT</th>\n      <th>WEIGHT</th>\n      <th>ACCOUNT A</th>\n      <th>ACCOUNT B</th>\n      <th>TOTAL ACCOUNT</th>\n    </tr>\n  </thead>\n  <tbody>\n    <tr>\n      <th>0</th>\n      <td>Adi Dako</td>\n      <td>LISBON</td>\n      <td>PORTUGAL</td>\n      <td>56</td>\n      <td>132.0</td>\n      <td>2390.0</td>\n      <td>4340</td>\n      <td>6730</td>\n    </tr>\n    <tr>\n      <th>1</th>\n      <td>John Paul</td>\n      <td>LONDON</td>\n      <td>UNITED KINGDOM</td>\n      <td>62</td>\n      <td>165.0</td>\n      <td>4500.0</td>\n      <td>34334</td>\n      <td>38834</td>\n    </tr>\n    <tr>\n      <th>2</th>\n      <td>Cindy Jules</td>\n      <td>Stockholm</td>\n      <td>Sweden</td>\n      <td>48</td>\n      <td>117.0</td>\n      <td>NaN</td>\n      <td>5504</td>\n      <td>8949</td>\n    </tr>\n    <tr>\n      <th>3</th>\n      <td>Arthur Kegels</td>\n      <td>BRUSSELS</td>\n      <td>BELGIUM</td>\n      <td>59</td>\n      <td>121.0</td>\n      <td>4344.0</td>\n      <td>8999</td>\n      <td>300</td>\n    </tr>\n    <tr>\n      <th>4</th>\n      <td>Freya Bismark</td>\n      <td>Berlin</td>\n      <td>GERMANYY</td>\n      <td>53</td>\n      <td>126.0</td>\n      <td>7000.0</td>\n      <td>19000</td>\n      <td>26000</td>\n    </tr>\n  </tbody>\n</table>\n</div>",
                        "text/plain": "                NAME        CITY         COUNTRY  HEIGHT  WEIGHT  ACCOUNT A  \\\n0          Adi Dako   LISBON       PORTUGAL           56   132.0     2390.0   \n1          John Paul   LONDON     UNITED KINGDOM      62   165.0     4500.0   \n2        Cindy Jules   Stockholm          Sweden      48   117.0        NaN   \n3      Arthur Kegels    BRUSSELS         BELGIUM      59   121.0     4344.0   \n4      Freya Bismark      Berlin        GERMANYY      53   126.0     7000.0   \n\n   ACCOUNT B  TOTAL ACCOUNT  \n0       4340           6730  \n1      34334          38834  \n2       5504           8949  \n3       8999            300  \n4      19000          26000  "
                    },
                    "execution_count": 13,
                    "metadata": {},
                    "output_type": "execute_result"
                }
            ],
            "source": "# specifying the separator ';' when loading the dataset\ndf_dataclean = pd.read_csv('http://bit.ly/DataCleaningDataset', ';')\n\ndf_dataclean.head()"
        },
        {
            "cell_type": "code",
            "execution_count": 14,
            "metadata": {},
            "outputs": [
                {
                    "name": "stderr",
                    "output_type": "stream",
                    "text": "/tmp/wsuser/ipykernel_210/1645267019.py:2: FutureWarning: The default value of regex will change from True to False in a future version. In addition, single character regular expressions will *not* be treated as literal strings when regex=True.\n  df_dataclean.columns = df_dataclean.columns.str.strip().str.lower().str.replace(' ', '_').str.replace('(', '').str.replace(')', '')\n"
                },
                {
                    "data": {
                        "text/html": "<div>\n<style scoped>\n    .dataframe tbody tr th:only-of-type {\n        vertical-align: middle;\n    }\n\n    .dataframe tbody tr th {\n        vertical-align: top;\n    }\n\n    .dataframe thead th {\n        text-align: right;\n    }\n</style>\n<table border=\"1\" class=\"dataframe\">\n  <thead>\n    <tr style=\"text-align: right;\">\n      <th></th>\n      <th>name</th>\n      <th>city</th>\n      <th>country</th>\n      <th>height</th>\n      <th>weight</th>\n      <th>account_a</th>\n      <th>account_b</th>\n      <th>total_account</th>\n    </tr>\n  </thead>\n  <tbody>\n    <tr>\n      <th>0</th>\n      <td>Adi Dako</td>\n      <td>LISBON</td>\n      <td>PORTUGAL</td>\n      <td>56</td>\n      <td>132.0</td>\n      <td>2390.0</td>\n      <td>4340</td>\n      <td>6730</td>\n    </tr>\n    <tr>\n      <th>1</th>\n      <td>John Paul</td>\n      <td>LONDON</td>\n      <td>UNITED KINGDOM</td>\n      <td>62</td>\n      <td>165.0</td>\n      <td>4500.0</td>\n      <td>34334</td>\n      <td>38834</td>\n    </tr>\n    <tr>\n      <th>2</th>\n      <td>Cindy Jules</td>\n      <td>Stockholm</td>\n      <td>Sweden</td>\n      <td>48</td>\n      <td>117.0</td>\n      <td>NaN</td>\n      <td>5504</td>\n      <td>8949</td>\n    </tr>\n    <tr>\n      <th>3</th>\n      <td>Arthur Kegels</td>\n      <td>BRUSSELS</td>\n      <td>BELGIUM</td>\n      <td>59</td>\n      <td>121.0</td>\n      <td>4344.0</td>\n      <td>8999</td>\n      <td>300</td>\n    </tr>\n    <tr>\n      <th>4</th>\n      <td>Freya Bismark</td>\n      <td>Berlin</td>\n      <td>GERMANYY</td>\n      <td>53</td>\n      <td>126.0</td>\n      <td>7000.0</td>\n      <td>19000</td>\n      <td>26000</td>\n    </tr>\n  </tbody>\n</table>\n</div>",
                        "text/plain": "                name        city         country  height  weight  account_a  \\\n0          Adi Dako   LISBON       PORTUGAL           56   132.0     2390.0   \n1          John Paul   LONDON     UNITED KINGDOM      62   165.0     4500.0   \n2        Cindy Jules   Stockholm          Sweden      48   117.0        NaN   \n3      Arthur Kegels    BRUSSELS         BELGIUM      59   121.0     4344.0   \n4      Freya Bismark      Berlin        GERMANYY      53   126.0     7000.0   \n\n   account_b  total_account  \n0       4340           6730  \n1      34334          38834  \n2       5504           8949  \n3       8999            300  \n4      19000          26000  "
                    },
                    "execution_count": 14,
                    "metadata": {},
                    "output_type": "execute_result"
                }
            ],
            "source": "# Renaming the columns using .strip(), .lower() and .replace()\ndf_dataclean.columns = df_dataclean.columns.str.strip().str.lower().str.replace(' ', '_').str.replace('(', '').str.replace(')', '')\n\ndf_dataclean.head()"
        },
        {
            "cell_type": "code",
            "execution_count": 15,
            "metadata": {},
            "outputs": [
                {
                    "data": {
                        "text/html": "<div>\n<style scoped>\n    .dataframe tbody tr th:only-of-type {\n        vertical-align: middle;\n    }\n\n    .dataframe tbody tr th {\n        vertical-align: top;\n    }\n\n    .dataframe thead th {\n        text-align: right;\n    }\n</style>\n<table border=\"1\" class=\"dataframe\">\n  <thead>\n    <tr style=\"text-align: right;\">\n      <th></th>\n      <th>name</th>\n      <th>city</th>\n      <th>country</th>\n      <th>height</th>\n      <th>weight</th>\n      <th>account_a</th>\n      <th>account_b</th>\n      <th>total_account</th>\n    </tr>\n  </thead>\n  <tbody>\n    <tr>\n      <th>0</th>\n      <td>Adi Dako</td>\n      <td>LISBON</td>\n      <td>PORTUGAL</td>\n      <td>142.24</td>\n      <td>132.0</td>\n      <td>2390.0</td>\n      <td>4340</td>\n      <td>6730</td>\n    </tr>\n    <tr>\n      <th>1</th>\n      <td>John Paul</td>\n      <td>LONDON</td>\n      <td>UNITED KINGDOM</td>\n      <td>157.48</td>\n      <td>165.0</td>\n      <td>4500.0</td>\n      <td>34334</td>\n      <td>38834</td>\n    </tr>\n    <tr>\n      <th>2</th>\n      <td>Cindy Jules</td>\n      <td>Stockholm</td>\n      <td>Sweden</td>\n      <td>121.92</td>\n      <td>117.0</td>\n      <td>NaN</td>\n      <td>5504</td>\n      <td>8949</td>\n    </tr>\n    <tr>\n      <th>3</th>\n      <td>Arthur Kegels</td>\n      <td>BRUSSELS</td>\n      <td>BELGIUM</td>\n      <td>149.86</td>\n      <td>121.0</td>\n      <td>4344.0</td>\n      <td>8999</td>\n      <td>300</td>\n    </tr>\n    <tr>\n      <th>4</th>\n      <td>Freya Bismark</td>\n      <td>Berlin</td>\n      <td>GERMANYY</td>\n      <td>134.62</td>\n      <td>126.0</td>\n      <td>7000.0</td>\n      <td>19000</td>\n      <td>26000</td>\n    </tr>\n  </tbody>\n</table>\n</div>",
                        "text/plain": "                name        city         country  height  weight  account_a  \\\n0          Adi Dako   LISBON       PORTUGAL       142.24   132.0     2390.0   \n1          John Paul   LONDON     UNITED KINGDOM  157.48   165.0     4500.0   \n2        Cindy Jules   Stockholm          Sweden  121.92   117.0        NaN   \n3      Arthur Kegels    BRUSSELS         BELGIUM  149.86   121.0     4344.0   \n4      Freya Bismark      Berlin        GERMANYY  134.62   126.0     7000.0   \n\n   account_b  total_account  \n0       4340           6730  \n1      34334          38834  \n2       5504           8949  \n3       8999            300  \n4      19000          26000  "
                    },
                    "execution_count": 15,
                    "metadata": {},
                    "output_type": "execute_result"
                }
            ],
            "source": "# Type conversion\n# height from inches to cm\ndf_dataclean['height'] = df_dataclean['height']*2.54\ndf_dataclean.head()"
        },
        {
            "cell_type": "code",
            "execution_count": 16,
            "metadata": {},
            "outputs": [
                {
                    "data": {
                        "text/plain": "name              object\ncity              object\ncountry           object\nheight           float64\nweight           float64\naccount_a        float64\naccount_b          int64\ntotal_account      int64\ndtype: object"
                    },
                    "execution_count": 16,
                    "metadata": {},
                    "output_type": "execute_result"
                }
            ],
            "source": "df_dataclean.dtypes"
        },
        {
            "cell_type": "code",
            "execution_count": 18,
            "metadata": {},
            "outputs": [
                {
                    "data": {
                        "text/plain": "name              object\ncity              object\ncountry           object\nheight             int64\nweight           float64\naccount_a        float64\naccount_b          int64\ntotal_account      int64\ndtype: object"
                    },
                    "execution_count": 18,
                    "metadata": {},
                    "output_type": "execute_result"
                }
            ],
            "source": "# Type conversion\n# height to integer using .apply() function by numpy\ndf_dataclean['height'] = df_dataclean['height'].apply(np.int64)\ndf_dataclean.dtypes"
        },
        {
            "cell_type": "code",
            "execution_count": 19,
            "metadata": {},
            "outputs": [
                {
                    "data": {
                        "text/plain": "name              object\ncity              object\ncountry           object\nheight             int64\nweight           float64\naccount_a          int64\naccount_b          int64\ntotal_account      int64\ndtype: object"
                    },
                    "execution_count": 19,
                    "metadata": {},
                    "output_type": "execute_result"
                }
            ],
            "source": "# Type conversion\n# account_a to integer using .apply() function by numpy\n# first replace Nan values with zero\ndf_dataclean['account_a'] = df_dataclean['account_a'].fillna(0)\n\ndf_dataclean['account_a'] = df_dataclean['account_a'].apply(np.int64)\n\ndf_dataclean.dtypes"
        },
        {
            "cell_type": "code",
            "execution_count": null,
            "metadata": {},
            "outputs": [],
            "source": ""
        }
    ],
    "metadata": {
        "kernelspec": {
            "display_name": "Python 3.9",
            "language": "python",
            "name": "python3"
        },
        "language_info": {
            "codemirror_mode": {
                "name": "ipython",
                "version": 3
            },
            "file_extension": ".py",
            "mimetype": "text/x-python",
            "name": "python",
            "nbconvert_exporter": "python",
            "pygments_lexer": "ipython3",
            "version": "3.9.12"
        }
    },
    "nbformat": 4,
    "nbformat_minor": 1
}